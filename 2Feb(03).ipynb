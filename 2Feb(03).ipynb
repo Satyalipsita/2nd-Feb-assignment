{
  "metadata": {
    "language_info": {
      "codemirror_mode": {
        "name": "python",
        "version": 3
      },
      "file_extension": ".py",
      "mimetype": "text/x-python",
      "name": "python",
      "nbconvert_exporter": "python",
      "pygments_lexer": "ipython3",
      "version": "3.8"
    },
    "kernelspec": {
      "name": "python",
      "display_name": "Python (Pyodide)",
      "language": "python"
    }
  },
  "nbformat_minor": 4,
  "nbformat": 4,
  "cells": [
    {
      "cell_type": "code",
      "source": "units=int(input(\"please enter the number of units you consumed in a month:\"))\nif(units<=100):\n    payAmount=units*4.5   \nelif(units<=200):\n    payAmount=(100*4.5)+(units-100)*6\nelif(units<=300):\n    payAmount=(100*4.5)+(200-100)*6+(units-200)*10\nelif(units>300):\n    payAmount=(100*1.5)+(200-100)*6+(300-200)*10+(units-300)*10\nelse:\n    payAmount=0\nprint(\"\\nElecticity bill=%.2f\" %payAmount)",
      "metadata": {},
      "execution_count": null,
      "outputs": []
    }
  ]
}