{
  "metadata": {
    "language_info": {
      "codemirror_mode": {
        "name": "python",
        "version": 3
      },
      "file_extension": ".py",
      "mimetype": "text/x-python",
      "name": "python",
      "nbconvert_exporter": "python",
      "pygments_lexer": "ipython3",
      "version": "3.8"
    },
    "kernelspec": {
      "name": "python",
      "display_name": "Python (Pyodide)",
      "language": "python"
    }
  },
  "nbformat_minor": 4,
  "nbformat": 4,
  "cells": [
    {
      "cell_type": "code",
      "source": "num = 10\nsum_of_numbers = 0\nwhile(num > 0):\n    sum_of_numbers += num\n    num -= 1\nprint(\"The sum is\", sum_of_numbers)",
      "metadata": {
        "trusted": true
      },
      "execution_count": 1,
      "outputs": [
        {
          "name": "stdout",
          "text": "The sum is 55\n",
          "output_type": "stream"
        }
      ]
    },
    {
      "cell_type": "code",
      "source": "num = 10\nproduct_of_numbers = 0\nwhile(num > 0):\n    product_of_numbers *= num\n    num -= 1\nprint(\"The product  is\", product_of_numbers)",
      "metadata": {
        "trusted": true
      },
      "execution_count": 2,
      "outputs": [
        {
          "name": "stdout",
          "text": "The product  is 0\n",
          "output_type": "stream"
        }
      ]
    },
    {
      "cell_type": "code",
      "source": "",
      "metadata": {},
      "execution_count": null,
      "outputs": []
    }
  ]
}